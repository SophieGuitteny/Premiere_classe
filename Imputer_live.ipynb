{
 "cells": [
  {
   "attachments": {},
   "cell_type": "markdown",
   "metadata": {},
   "source": [
    "# Class Imputer : 1ère partie : Méthode pour remplacer les valeurs manquantes d'une liste par la moyenne des valeurs présentes."
   ]
  },
  {
   "cell_type": "code",
   "execution_count": 1,
   "metadata": {},
   "outputs": [],
   "source": [
    "\n",
    "class Imputer() :\n",
    "    def __init__(self, List) :\n",
    "        self.values=List\n",
    "        \n",
    "    def avg(self) :\n",
    "        n=0\n",
    "        sum=0\n",
    "        # cette boucle calcule la somme des éléments différents de None dans la liste et \n",
    "        # le nombre d'éléments de la liste différents de None\n",
    "        \n",
    "        for elt in self.values :\n",
    "            if elt!=None :\n",
    "                sum+=elt\n",
    "                n+=1\n",
    "        # avg est la moyenne des élémnts de la liste différents de None :\n",
    "        \n",
    "        avg=sum/n\n",
    "        \n",
    "        print('les valeurs manquantes seront remplacées par :', avg)\n",
    "        \n",
    "        # Cette boucle teste si les éléments de la liste sont None ou non.\n",
    "        # Si oui ils sont remplacés par la moyenne avg \n",
    "    \n",
    "        for i in range(len(self.values)) :\n",
    "            if self.values[i]==None :\n",
    "                self.values[i]=avg\n",
    "        \n",
    "        # la méthode renvoie la liste \"nettoyée\" des valeurs manquantes.\n",
    "        # Elles ont été remplacées par la moyenne des valeurs de la liste\n",
    "            \n",
    "        return self.values"
   ]
  },
  {
   "cell_type": "code",
   "execution_count": 2,
   "metadata": {},
   "outputs": [],
   "source": [
    "# j'instancie un objet de la classe Imputer\n",
    "\n",
    "imputer1=Imputer([None, 2, 4, 6, None])"
   ]
  },
  {
   "cell_type": "code",
   "execution_count": 3,
   "metadata": {},
   "outputs": [
    {
     "name": "stdout",
     "output_type": "stream",
     "text": [
      "les valeurs manquantes seront remplacées par : 4.0\n"
     ]
    },
    {
     "data": {
      "text/plain": [
       "[4.0, 2, 4, 6, 4.0]"
      ]
     },
     "execution_count": 3,
     "metadata": {},
     "output_type": "execute_result"
    }
   ],
   "source": [
    "# J'applique la méthode avg() à cet objet. J'obtiens la liste \"nettoyée de ses valeurs manquantes\"\n",
    "\n",
    "imputer1.avg()"
   ]
  },
  {
   "attachments": {},
   "cell_type": "markdown",
   "metadata": {},
   "source": [
    "# Class Imputer : 2ème partie : Méthode supplémentaire pour remplacer les valeurs manquantes par la médiane des valeurs présentes."
   ]
  },
  {
   "cell_type": "code",
   "execution_count": 18,
   "metadata": {},
   "outputs": [],
   "source": [
    "class Imputer() :\n",
    "    def __init__(self, List) :\n",
    "        self.values=List\n",
    "        \n",
    "    def avg(self) :\n",
    "        n=0\n",
    "        sum=0\n",
    "        \n",
    "        for elt in self.values :\n",
    "            if elt!=None :\n",
    "                sum+=elt\n",
    "                n+=1\n",
    "        \n",
    "        avg=sum/n\n",
    "        print('les valeurs manquantes seront remplacées par :', avg)\n",
    "    \n",
    "        for i in range(len(self.values)) :\n",
    "            if self.values[i]==None :\n",
    "                self.values[i]=avg\n",
    "            \n",
    "        return self.values\n",
    "    \n",
    "    # Je définie une autre méthode qui remplacera les valeurs manquantes d'une liste \n",
    "    # par la médiane des valeurs différentes de None\n",
    "    \n",
    "    # je commence par créer une nouvelle liste new_list sans valeur manquante :\n",
    "    \n",
    "    def median(self) :\n",
    "        new_list =[]\n",
    "        for elt in self.values :\n",
    "            if elt != None :\n",
    "                new_list.append(elt)\n",
    "       \n",
    "        \n",
    "    # afin de pouvoir calculer la médiane, j'ordonne new_list dans l'ordre croissant :\n",
    "    \n",
    "        new_list.sort()\n",
    "  \n",
    "        \n",
    "    # je calcule la médiane dans le cas où le nombre de valeurs de new_list est pair :\n",
    "    \n",
    "        if len(new_list)%2==0 :\n",
    "            med =  (new_list[(len(new_list)//2-1)] + new_list[len(new_list)//2])/2 \n",
    "            \n",
    "    # je calcule la médiane dans le cas où le nombre de valeurs de new_list est impair :\n",
    "      \n",
    "        else :\n",
    "            med = new_list[(len(new_list)-1)//2]\n",
    "            \n",
    "        print(\"les valeurs manquantes seront remplacées par :\", med)\n",
    "        \n",
    "    # je remplace les valeurs manquantes de la liste par la médiane\n",
    "        \n",
    "        for i in range(len(self.values)) :\n",
    "            if self.values[i]==None :\n",
    "                self.values[i]=med\n",
    "    \n",
    "    # la méthode renvoie la liste \"nettoyée\" des valeurs manquantes.\n",
    "    # Elles ont été remplacées par la médiane des valeurs de la liste\n",
    "                \n",
    "        return self.values\n",
    "                "
   ]
  },
  {
   "cell_type": "code",
   "execution_count": 19,
   "metadata": {},
   "outputs": [],
   "source": [
    "# j'instancie un objet de la classe Imputer\n",
    "# La liste contient un nombre impair de valeurs manquantes\n",
    "\n",
    "imputer1=Imputer([2,None,3, 1, None,1,9,56,78])\n"
   ]
  },
  {
   "cell_type": "code",
   "execution_count": 20,
   "metadata": {},
   "outputs": [
    {
     "name": "stdout",
     "output_type": "stream",
     "text": [
      "les valeurs manquantes seront remplacées par : 3\n"
     ]
    },
    {
     "data": {
      "text/plain": [
       "[2, 3, 3, 1, 3, 1, 9, 56, 78]"
      ]
     },
     "execution_count": 20,
     "metadata": {},
     "output_type": "execute_result"
    }
   ],
   "source": [
    "# J'applique la méthode median() à cet objet. J'obtiens la liste \"nettoyée de ses valeurs manquantes\"\n",
    "\n",
    "imputer1.median()\n"
   ]
  },
  {
   "cell_type": "code",
   "execution_count": 21,
   "metadata": {},
   "outputs": [],
   "source": [
    "# j'instancie un objet de la classe Imputer\n",
    "# La liste contient un nombre pair de valeurs manquantes\n",
    "\n",
    "imputer2=Imputer([1,2,5,4,7,8,10,None,12])"
   ]
  },
  {
   "cell_type": "code",
   "execution_count": 22,
   "metadata": {},
   "outputs": [
    {
     "name": "stdout",
     "output_type": "stream",
     "text": [
      "les valeurs manquantes seront remplacées par : 6.0\n"
     ]
    },
    {
     "data": {
      "text/plain": [
       "[1, 2, 5, 4, 7, 8, 10, 6.0, 12]"
      ]
     },
     "execution_count": 22,
     "metadata": {},
     "output_type": "execute_result"
    }
   ],
   "source": [
    "# J'applique la méthode median() à cet objet. J'obtiens la liste \"nettoyée de ses valeurs manquantes\"\n",
    "\n",
    "imputer2.median()"
   ]
  }
 ],
 "metadata": {
  "kernelspec": {
   "display_name": "base",
   "language": "python",
   "name": "python3"
  },
  "language_info": {
   "codemirror_mode": {
    "name": "ipython",
    "version": 3
   },
   "file_extension": ".py",
   "mimetype": "text/x-python",
   "name": "python",
   "nbconvert_exporter": "python",
   "pygments_lexer": "ipython3",
   "version": "3.9.13"
  },
  "orig_nbformat": 4,
  "vscode": {
   "interpreter": {
    "hash": "b902f0996409250bd3038436e21c70e3a2207d3fe5c41019ba7c0716c41809da"
   }
  }
 },
 "nbformat": 4,
 "nbformat_minor": 2
}
